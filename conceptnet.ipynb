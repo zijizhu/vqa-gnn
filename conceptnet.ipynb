{
 "cells": [
  {
   "cell_type": "code",
   "execution_count": 1,
   "metadata": {},
   "outputs": [],
   "source": [
    "from preprocessing.conceptnet import extract_english, construct_graph, create_matcher_patterns\n",
    "from config import (conceptnet_raw_path,\n",
    "                    conceptnet_eng_vocab_path,\n",
    "                    conceptnet_eng_csv_path,\n",
    "                    conceptnet_eng_graph_path,\n",
    "                    conceptnet_eng_matcher_patterns_path)"
   ]
  },
  {
   "cell_type": "code",
   "execution_count": null,
   "metadata": {},
   "outputs": [],
   "source": [
    "extract_english(conceptnet_raw_path,\n",
    "                conceptnet_eng_csv_path,\n",
    "                conceptnet_eng_vocab_path)"
   ]
  },
  {
   "cell_type": "code",
   "execution_count": 2,
   "metadata": {},
   "outputs": [
    {
     "name": "stdout",
     "output_type": "stream",
     "text": [
      "Generating ConceptNet graph file\n"
     ]
    },
    {
     "name": "stderr",
     "output_type": "stream",
     "text": [
      "100%|██████████| 2543196/2543196 [00:15<00:00, 164058.48it/s]\n"
     ]
    },
    {
     "name": "stdout",
     "output_type": "stream",
     "text": [
      "Conceptnet graph object saved to /Users/richardzhu/Developer/research/project1/data/conceptnet_english_graph.pickle\n",
      "\n"
     ]
    }
   ],
   "source": [
    "construct_graph(conceptnet_eng_csv_path,\n",
    "                conceptnet_eng_vocab_path,\n",
    "                conceptnet_eng_graph_path)"
   ]
  },
  {
   "cell_type": "code",
   "execution_count": 3,
   "metadata": {},
   "outputs": [
    {
     "name": "stdout",
     "output_type": "stream",
     "text": [
      "Create matcher patterns from conceptnet\n"
     ]
    },
    {
     "name": "stderr",
     "output_type": "stream",
     "text": [
      "100%|██████████| 790711/790711 [04:30<00:00, 2926.64it/s]\n"
     ]
    },
    {
     "name": "stdout",
     "output_type": "stream",
     "text": [
      "Created 772561 patterns\n"
     ]
    }
   ],
   "source": [
    "create_matcher_patterns(conceptnet_eng_vocab_path, conceptnet_eng_matcher_patterns_path)"
   ]
  },
  {
   "cell_type": "code",
   "execution_count": null,
   "metadata": {},
   "outputs": [],
   "source": []
  }
 ],
 "metadata": {
  "kernelspec": {
   "display_name": "research",
   "language": "python",
   "name": "python3"
  },
  "language_info": {
   "codemirror_mode": {
    "name": "ipython",
    "version": 3
   },
   "file_extension": ".py",
   "mimetype": "text/x-python",
   "name": "python",
   "nbconvert_exporter": "python",
   "pygments_lexer": "ipython3",
   "version": "3.10.11"
  },
  "orig_nbformat": 4
 },
 "nbformat": 4,
 "nbformat_minor": 2
}
